{
 "cells": [
  {
   "cell_type": "code",
   "execution_count": 3,
   "metadata": {},
   "outputs": [],
   "source": [
    "import os\n",
    "import pandas as pd\n",
    "from openai import OpenAI"
   ]
  },
  {
   "cell_type": "code",
   "execution_count": 1,
   "metadata": {},
   "outputs": [
    {
     "name": "stdout",
     "output_type": "stream",
     "text": [
      "API key loaded successfully\n"
     ]
    }
   ],
   "source": [
    "import os\n",
    "\n",
    "api_key = os.getenv(\"OPENAI_API_KEY\")\n",
    "\n",
    "if api_key:\n",
    "    print(\"API key loaded successfully\")\n",
    "else:\n",
    "    print(\"API key not found. Please set the environment variable.\")"
   ]
  },
  {
   "cell_type": "code",
   "execution_count": 4,
   "metadata": {},
   "outputs": [],
   "source": [
    "client = OpenAI(api_key=os.environ[\"OPENAI_API_KEY\"])"
   ]
  },
  {
   "cell_type": "code",
   "execution_count": 5,
   "metadata": {},
   "outputs": [
    {
     "data": {
      "text/html": [
       "<div>\n",
       "<style scoped>\n",
       "    .dataframe tbody tr th:only-of-type {\n",
       "        vertical-align: middle;\n",
       "    }\n",
       "\n",
       "    .dataframe tbody tr th {\n",
       "        vertical-align: top;\n",
       "    }\n",
       "\n",
       "    .dataframe thead th {\n",
       "        text-align: right;\n",
       "    }\n",
       "</style>\n",
       "<table border=\"1\" class=\"dataframe\">\n",
       "  <thead>\n",
       "    <tr style=\"text-align: right;\">\n",
       "      <th></th>\n",
       "      <th>symbol</th>\n",
       "      <th>name</th>\n",
       "      <th>headQuarter</th>\n",
       "      <th>dateFirstAdded</th>\n",
       "      <th>cik</th>\n",
       "      <th>founded</th>\n",
       "      <th>ytd</th>\n",
       "    </tr>\n",
       "  </thead>\n",
       "  <tbody>\n",
       "    <tr>\n",
       "      <th>0</th>\n",
       "      <td>AAPL</td>\n",
       "      <td>Apple Inc.</td>\n",
       "      <td>Cupertino, CA</td>\n",
       "      <td>NaN</td>\n",
       "      <td>320193</td>\n",
       "      <td>1976-04-01</td>\n",
       "      <td>42.99992</td>\n",
       "    </tr>\n",
       "    <tr>\n",
       "      <th>1</th>\n",
       "      <td>ABNB</td>\n",
       "      <td>Airbnb</td>\n",
       "      <td>San Francisco, CA</td>\n",
       "      <td>NaN</td>\n",
       "      <td>1559720</td>\n",
       "      <td>2008-08-01</td>\n",
       "      <td>68.66902</td>\n",
       "    </tr>\n",
       "    <tr>\n",
       "      <th>2</th>\n",
       "      <td>ADBE</td>\n",
       "      <td>Adobe Inc.</td>\n",
       "      <td>San Jose, CA</td>\n",
       "      <td>NaN</td>\n",
       "      <td>796343</td>\n",
       "      <td>1982-12-01</td>\n",
       "      <td>57.22723</td>\n",
       "    </tr>\n",
       "    <tr>\n",
       "      <th>3</th>\n",
       "      <td>ADI</td>\n",
       "      <td>Analog Devices</td>\n",
       "      <td>Wilmington, MA</td>\n",
       "      <td>NaN</td>\n",
       "      <td>6281</td>\n",
       "      <td>1965-01-01</td>\n",
       "      <td>17.02062</td>\n",
       "    </tr>\n",
       "    <tr>\n",
       "      <th>4</th>\n",
       "      <td>ADP</td>\n",
       "      <td>ADP</td>\n",
       "      <td>Roseland, NJ</td>\n",
       "      <td>NaN</td>\n",
       "      <td>8670</td>\n",
       "      <td>1949-01-01</td>\n",
       "      <td>5.53732</td>\n",
       "    </tr>\n",
       "  </tbody>\n",
       "</table>\n",
       "</div>"
      ],
      "text/plain": [
       "  symbol            name        headQuarter  dateFirstAdded      cik  \\\n",
       "0   AAPL      Apple Inc.      Cupertino, CA             NaN   320193   \n",
       "1   ABNB          Airbnb  San Francisco, CA             NaN  1559720   \n",
       "2   ADBE      Adobe Inc.       San Jose, CA             NaN   796343   \n",
       "3    ADI  Analog Devices     Wilmington, MA             NaN     6281   \n",
       "4    ADP             ADP       Roseland, NJ             NaN     8670   \n",
       "\n",
       "      founded       ytd  \n",
       "0  1976-04-01  42.99992  \n",
       "1  2008-08-01  68.66902  \n",
       "2  1982-12-01  57.22723  \n",
       "3  1965-01-01  17.02062  \n",
       "4  1949-01-01   5.53732  "
      ]
     },
     "execution_count": 5,
     "metadata": {},
     "output_type": "execute_result"
    }
   ],
   "source": [
    "n100 = pd.read_csv(\"/Users/yuliaanashkina/Downloads/nasdaq100.csv\")\n",
    "n100_p = pd.read_csv(\"/Users/yuliaanashkina/Downloads/nasdaq100_price_change.csv\")\n",
    "nasdaq100 = n100.merge(n100_p[[\"symbol\", \"ytd\"]], on=\"symbol\", how=\"inner\")\n",
    "nasdaq100.head()"
   ]
  },
  {
   "cell_type": "code",
   "execution_count": 9,
   "metadata": {},
   "outputs": [
    {
     "name": "stdout",
     "output_type": "stream",
     "text": [
      "The Nasdaq-100 stock performance year to date (YTD) shows that the Technology sector has been performing well, with companies like Apple Inc. (AAPL), Adobe Inc. (ADBE), and Workday, Inc. (WDAY) showing strong YTD growth. The Real Estate sector has also been performing well, with Airbnb (ABNB) leading the way. Additionally, the Financial sector has shown positive growth, with companies like Warner Bros. Discovery (WBD) and Zoom Video Communications (ZM) performing well. Overall, the top three sectors based on YTD performance are Technology, Real Estate, and Financial.\n"
     ]
    }
   ],
   "source": [
    "# Loop through the NASDAQ companies\n",
    "for company in nasdaq100[\"symbol\"]:\n",
    "    # Create a prompt to enrich nasdaq100 using OpenAI\n",
    "    prompt = f'''Classify company {company} into one of the following sectors. Answer only with the sector name: Technology, Consumer Cyclical, Industrials, Utilities, Healthcare, Communication, Energy, Consumer Defensive, Real Estate, Financial.\n",
    "'''\n",
    "    # Create a request to the completions endpoint\n",
    "    response = client.chat.completions.create(\n",
    "        model=\"gpt-3.5-turbo\",\n",
    "        messages=[{ \"role\": \"user\", \"content\": prompt}],\n",
    "        temperature=0.0,\n",
    "    )\n",
    "    # Store the output as a variable called sector\n",
    "    sector = response.choices[0].message.content\n",
    "    \n",
    "    # Add the sector for the corresponding company\n",
    "    nasdaq100.loc[nasdaq100[\"symbol\"] == company, \"Sector\"] = sector\n",
    "    \n",
    "# Count the number of sectors\n",
    "nasdaq100[\"Sector\"].value_counts()\n",
    "\n",
    "# Prompt to get stock recommendations\n",
    "prompt = f'''Provide summary information about Nasdaq-100 stock performance year to date (YTD), recommending the three best sectors               and three or more companies per sector.\n",
    "            Company data: {nasdaq100} \n",
    "'''\n",
    "\n",
    "# Get the model response\n",
    "response = client.chat.completions.create(\n",
    "        model=\"gpt-3.5-turbo\",\n",
    "        messages=[{ \"role\": \"user\", \"content\": prompt}],\n",
    "        temperature=0.0,\n",
    "    )\n",
    "\n",
    "# Store the output as a variable and print the recommendations\n",
    "stock_recommendations = response.choices[0].message.content\n",
    "print(stock_recommendations)"
   ]
  }
 ],
 "metadata": {
  "kernelspec": {
   "display_name": "Python 3 (ipykernel)",
   "language": "python",
   "name": "python3"
  },
  "language_info": {
   "codemirror_mode": {
    "name": "ipython",
    "version": 3
   },
   "file_extension": ".py",
   "mimetype": "text/x-python",
   "name": "python",
   "nbconvert_exporter": "python",
   "pygments_lexer": "ipython3",
   "version": "3.11.5"
  }
 },
 "nbformat": 4,
 "nbformat_minor": 2
}
